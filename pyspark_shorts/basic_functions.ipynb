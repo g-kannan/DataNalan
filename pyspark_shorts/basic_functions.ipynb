{
 "cells": [
  {
   "cell_type": "markdown",
   "metadata": {},
   "source": [
    "### spowdy - Function to set partitionOverwriteMode to dynamic"
   ]
  },
  {
   "cell_type": "code",
   "execution_count": null,
   "metadata": {},
   "outputs": [],
   "source": [
    "def setpartitionOverwriteModeDynamic():\n",
    "    \"\"\"\n",
    "    This function sets the spark config 'partitionOverwriteMode' to dynamic\n",
    "    Arguments: none\n",
    "    Alias: spowdy\n",
    "    Example:\n",
    "    setpartitionOverwriteModeDynamic or spowdy\n",
    "    \"\"\"\n",
    "    spark.conf.set(\"spark.sql.sources.partitionOverwriteMode\", \"dynamic\")\n",
    "\n",
    "\n",
    "# set alias\n",
    "spowdy = setpartitionOverwriteModeDynamic\n"
   ]
  },
  {
   "cell_type": "markdown",
   "metadata": {},
   "source": [
    "### mct - function to move a column to end\n",
    "*Inputs\n",
    "1. input_df - dataframe\n",
    "2. col_to_move - column\n",
    "\n",
    "*Output\n",
    "1. output_df - dataframe\n",
    "\n"
   ]
  },
  {
   "cell_type": "code",
   "execution_count": null,
   "metadata": {},
   "outputs": [],
   "source": [
    "def move_col_toend(input_df, col_to_move):\n",
    "    \"\"\"\n",
    "    This function moves a column to end of list and returns dataframe\n",
    "    Arguments:\n",
    "    1. input_df - dataframe\n",
    "    2. col_to_move - column to move to end of list\n",
    "    Returns:\n",
    "    output_df - dataframe\n",
    "    Alias:\n",
    "    mct\n",
    "    Example:\n",
    "    move_col_toend(input_df,'dateCreated') or mct(input_df,'dateCreated')\n",
    "    \"\"\"\n",
    "    column_list = input_df.schema.names\n",
    "    if col_to_move in column_list:\n",
    "        column_list.pop(column_list.index(col_to_move))\n",
    "    column_list.append(col_to_move)\n",
    "    print('re-arranged list:', column_list, '\\n')\n",
    "    output_df = input_df.select(column_list)\n",
    "    return output_df\n",
    "\n",
    "\n",
    "# set alias\n",
    "mct = move_col_toend\n"
   ]
  }
 ],
 "metadata": {
  "kernelspec": {
   "display_name": "Python 3.11.0 64-bit",
   "language": "python",
   "name": "python3"
  },
  "language_info": {
   "name": "python",
   "version": "3.11.0"
  },
  "orig_nbformat": 4,
  "vscode": {
   "interpreter": {
    "hash": "5238573367df39f7286bb46f9ff5f08f63a01a80960060ce41e3c79b190280fa"
   }
  }
 },
 "nbformat": 4,
 "nbformat_minor": 2
}

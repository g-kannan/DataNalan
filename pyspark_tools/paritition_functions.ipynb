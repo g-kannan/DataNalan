{
 "cells": [
  {
   "cell_type": "code",
   "execution_count": null,
   "metadata": {},
   "outputs": [],
   "source": [
    "def setpartitionOverwriteModeDynamic():\n",
    "    spark.conf.set(\"spark.sql.sources.partitionOverwriteMode\", \"dynamic\")\n",
    "    return (\"Changed partitionOverwriteMode to dynamic\")\n",
    "\n",
    "\n",
    "#set alias\n",
    "spowdy = setpartitionOverwriteModeDynamic\n"
   ]
  }
 ],
 "metadata": {
  "language_info": {
   "name": "python"
  },
  "orig_nbformat": 4
 },
 "nbformat": 4,
 "nbformat_minor": 2
}
